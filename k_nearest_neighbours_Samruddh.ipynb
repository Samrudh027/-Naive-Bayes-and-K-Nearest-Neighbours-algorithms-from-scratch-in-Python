{
  "cells": [
    {
      "cell_type": "code",
      "execution_count": 1,
      "id": "ce2dda3d",
      "metadata": {
        "id": "ce2dda3d"
      },
      "outputs": [],
      "source": [
        "#This file consists of Implementing K-nearest neioghbours from scratch without using sklearn library or any implementation library."
      ]
    },
    {
      "cell_type": "code",
      "execution_count": 2,
      "id": "727a241b",
      "metadata": {
        "id": "727a241b"
      },
      "outputs": [],
      "source": [
        "#importing required libraries\n",
        "import numpy as np\n",
        "import pandas as pd"
      ]
    },
    {
      "cell_type": "code",
      "execution_count": 3,
      "id": "35825a10",
      "metadata": {
        "id": "35825a10"
      },
      "outputs": [],
      "source": [
        "train_df = pd.read_csv('/train.csv')\n",
        "test_df = pd.read_csv('/test.csv')"
      ]
    },
    {
      "cell_type": "code",
      "execution_count": 4,
      "id": "7ba2a920",
      "metadata": {
        "colab": {
          "base_uri": "https://localhost:8080/",
          "height": 299
        },
        "id": "7ba2a920",
        "outputId": "7a5acfd5-5b89-4aa7-be64-6dc42fddbf93"
      },
      "outputs": [
        {
          "output_type": "execute_result",
          "data": {
            "text/plain": [
              "   PassengerId  Survived  Pclass  \\\n",
              "0            1         0       3   \n",
              "1            2         1       1   \n",
              "2            3         1       3   \n",
              "3            4         1       1   \n",
              "4            5         0       3   \n",
              "\n",
              "                                                Name     Sex   Age  SibSp  \\\n",
              "0                            Braund, Mr. Owen Harris    male  22.0      1   \n",
              "1  Cumings, Mrs. John Bradley (Florence Briggs Th...  female  38.0      1   \n",
              "2                             Heikkinen, Miss. Laina  female  26.0      0   \n",
              "3       Futrelle, Mrs. Jacques Heath (Lily May Peel)  female  35.0      1   \n",
              "4                           Allen, Mr. William Henry    male  35.0      0   \n",
              "\n",
              "   Parch            Ticket     Fare Cabin Embarked  \n",
              "0      0         A/5 21171   7.2500   NaN        S  \n",
              "1      0          PC 17599  71.2833   C85        C  \n",
              "2      0  STON/O2. 3101282   7.9250   NaN        S  \n",
              "3      0            113803  53.1000  C123        S  \n",
              "4      0            373450   8.0500   NaN        S  "
            ],
            "text/html": [
              "\n",
              "  <div id=\"df-6edf82c6-8eb5-402b-be91-45b90763acbb\">\n",
              "    <div class=\"colab-df-container\">\n",
              "      <div>\n",
              "<style scoped>\n",
              "    .dataframe tbody tr th:only-of-type {\n",
              "        vertical-align: middle;\n",
              "    }\n",
              "\n",
              "    .dataframe tbody tr th {\n",
              "        vertical-align: top;\n",
              "    }\n",
              "\n",
              "    .dataframe thead th {\n",
              "        text-align: right;\n",
              "    }\n",
              "</style>\n",
              "<table border=\"1\" class=\"dataframe\">\n",
              "  <thead>\n",
              "    <tr style=\"text-align: right;\">\n",
              "      <th></th>\n",
              "      <th>PassengerId</th>\n",
              "      <th>Survived</th>\n",
              "      <th>Pclass</th>\n",
              "      <th>Name</th>\n",
              "      <th>Sex</th>\n",
              "      <th>Age</th>\n",
              "      <th>SibSp</th>\n",
              "      <th>Parch</th>\n",
              "      <th>Ticket</th>\n",
              "      <th>Fare</th>\n",
              "      <th>Cabin</th>\n",
              "      <th>Embarked</th>\n",
              "    </tr>\n",
              "  </thead>\n",
              "  <tbody>\n",
              "    <tr>\n",
              "      <th>0</th>\n",
              "      <td>1</td>\n",
              "      <td>0</td>\n",
              "      <td>3</td>\n",
              "      <td>Braund, Mr. Owen Harris</td>\n",
              "      <td>male</td>\n",
              "      <td>22.0</td>\n",
              "      <td>1</td>\n",
              "      <td>0</td>\n",
              "      <td>A/5 21171</td>\n",
              "      <td>7.2500</td>\n",
              "      <td>NaN</td>\n",
              "      <td>S</td>\n",
              "    </tr>\n",
              "    <tr>\n",
              "      <th>1</th>\n",
              "      <td>2</td>\n",
              "      <td>1</td>\n",
              "      <td>1</td>\n",
              "      <td>Cumings, Mrs. John Bradley (Florence Briggs Th...</td>\n",
              "      <td>female</td>\n",
              "      <td>38.0</td>\n",
              "      <td>1</td>\n",
              "      <td>0</td>\n",
              "      <td>PC 17599</td>\n",
              "      <td>71.2833</td>\n",
              "      <td>C85</td>\n",
              "      <td>C</td>\n",
              "    </tr>\n",
              "    <tr>\n",
              "      <th>2</th>\n",
              "      <td>3</td>\n",
              "      <td>1</td>\n",
              "      <td>3</td>\n",
              "      <td>Heikkinen, Miss. Laina</td>\n",
              "      <td>female</td>\n",
              "      <td>26.0</td>\n",
              "      <td>0</td>\n",
              "      <td>0</td>\n",
              "      <td>STON/O2. 3101282</td>\n",
              "      <td>7.9250</td>\n",
              "      <td>NaN</td>\n",
              "      <td>S</td>\n",
              "    </tr>\n",
              "    <tr>\n",
              "      <th>3</th>\n",
              "      <td>4</td>\n",
              "      <td>1</td>\n",
              "      <td>1</td>\n",
              "      <td>Futrelle, Mrs. Jacques Heath (Lily May Peel)</td>\n",
              "      <td>female</td>\n",
              "      <td>35.0</td>\n",
              "      <td>1</td>\n",
              "      <td>0</td>\n",
              "      <td>113803</td>\n",
              "      <td>53.1000</td>\n",
              "      <td>C123</td>\n",
              "      <td>S</td>\n",
              "    </tr>\n",
              "    <tr>\n",
              "      <th>4</th>\n",
              "      <td>5</td>\n",
              "      <td>0</td>\n",
              "      <td>3</td>\n",
              "      <td>Allen, Mr. William Henry</td>\n",
              "      <td>male</td>\n",
              "      <td>35.0</td>\n",
              "      <td>0</td>\n",
              "      <td>0</td>\n",
              "      <td>373450</td>\n",
              "      <td>8.0500</td>\n",
              "      <td>NaN</td>\n",
              "      <td>S</td>\n",
              "    </tr>\n",
              "  </tbody>\n",
              "</table>\n",
              "</div>\n",
              "      <button class=\"colab-df-convert\" onclick=\"convertToInteractive('df-6edf82c6-8eb5-402b-be91-45b90763acbb')\"\n",
              "              title=\"Convert this dataframe to an interactive table.\"\n",
              "              style=\"display:none;\">\n",
              "        \n",
              "  <svg xmlns=\"http://www.w3.org/2000/svg\" height=\"24px\"viewBox=\"0 0 24 24\"\n",
              "       width=\"24px\">\n",
              "    <path d=\"M0 0h24v24H0V0z\" fill=\"none\"/>\n",
              "    <path d=\"M18.56 5.44l.94 2.06.94-2.06 2.06-.94-2.06-.94-.94-2.06-.94 2.06-2.06.94zm-11 1L8.5 8.5l.94-2.06 2.06-.94-2.06-.94L8.5 2.5l-.94 2.06-2.06.94zm10 10l.94 2.06.94-2.06 2.06-.94-2.06-.94-.94-2.06-.94 2.06-2.06.94z\"/><path d=\"M17.41 7.96l-1.37-1.37c-.4-.4-.92-.59-1.43-.59-.52 0-1.04.2-1.43.59L10.3 9.45l-7.72 7.72c-.78.78-.78 2.05 0 2.83L4 21.41c.39.39.9.59 1.41.59.51 0 1.02-.2 1.41-.59l7.78-7.78 2.81-2.81c.8-.78.8-2.07 0-2.86zM5.41 20L4 18.59l7.72-7.72 1.47 1.35L5.41 20z\"/>\n",
              "  </svg>\n",
              "      </button>\n",
              "      \n",
              "  <style>\n",
              "    .colab-df-container {\n",
              "      display:flex;\n",
              "      flex-wrap:wrap;\n",
              "      gap: 12px;\n",
              "    }\n",
              "\n",
              "    .colab-df-convert {\n",
              "      background-color: #E8F0FE;\n",
              "      border: none;\n",
              "      border-radius: 50%;\n",
              "      cursor: pointer;\n",
              "      display: none;\n",
              "      fill: #1967D2;\n",
              "      height: 32px;\n",
              "      padding: 0 0 0 0;\n",
              "      width: 32px;\n",
              "    }\n",
              "\n",
              "    .colab-df-convert:hover {\n",
              "      background-color: #E2EBFA;\n",
              "      box-shadow: 0px 1px 2px rgba(60, 64, 67, 0.3), 0px 1px 3px 1px rgba(60, 64, 67, 0.15);\n",
              "      fill: #174EA6;\n",
              "    }\n",
              "\n",
              "    [theme=dark] .colab-df-convert {\n",
              "      background-color: #3B4455;\n",
              "      fill: #D2E3FC;\n",
              "    }\n",
              "\n",
              "    [theme=dark] .colab-df-convert:hover {\n",
              "      background-color: #434B5C;\n",
              "      box-shadow: 0px 1px 3px 1px rgba(0, 0, 0, 0.15);\n",
              "      filter: drop-shadow(0px 1px 2px rgba(0, 0, 0, 0.3));\n",
              "      fill: #FFFFFF;\n",
              "    }\n",
              "  </style>\n",
              "\n",
              "      <script>\n",
              "        const buttonEl =\n",
              "          document.querySelector('#df-6edf82c6-8eb5-402b-be91-45b90763acbb button.colab-df-convert');\n",
              "        buttonEl.style.display =\n",
              "          google.colab.kernel.accessAllowed ? 'block' : 'none';\n",
              "\n",
              "        async function convertToInteractive(key) {\n",
              "          const element = document.querySelector('#df-6edf82c6-8eb5-402b-be91-45b90763acbb');\n",
              "          const dataTable =\n",
              "            await google.colab.kernel.invokeFunction('convertToInteractive',\n",
              "                                                     [key], {});\n",
              "          if (!dataTable) return;\n",
              "\n",
              "          const docLinkHtml = 'Like what you see? Visit the ' +\n",
              "            '<a target=\"_blank\" href=https://colab.research.google.com/notebooks/data_table.ipynb>data table notebook</a>'\n",
              "            + ' to learn more about interactive tables.';\n",
              "          element.innerHTML = '';\n",
              "          dataTable['output_type'] = 'display_data';\n",
              "          await google.colab.output.renderOutput(dataTable, element);\n",
              "          const docLink = document.createElement('div');\n",
              "          docLink.innerHTML = docLinkHtml;\n",
              "          element.appendChild(docLink);\n",
              "        }\n",
              "      </script>\n",
              "    </div>\n",
              "  </div>\n",
              "  "
            ]
          },
          "metadata": {},
          "execution_count": 4
        }
      ],
      "source": [
        "train_df.head()"
      ]
    },
    {
      "cell_type": "code",
      "execution_count": 5,
      "id": "93497359",
      "metadata": {
        "colab": {
          "base_uri": "https://localhost:8080/"
        },
        "id": "93497359",
        "outputId": "b99b5a80-f496-4f34-ed66-54e9c1264bde"
      },
      "outputs": [
        {
          "output_type": "execute_result",
          "data": {
            "text/plain": [
              "Survived       1.000000\n",
              "Fare           0.257307\n",
              "Parch          0.081629\n",
              "PassengerId   -0.005007\n",
              "SibSp         -0.035322\n",
              "Age           -0.077221\n",
              "Pclass        -0.338481\n",
              "Name: Survived, dtype: float64"
            ]
          },
          "metadata": {},
          "execution_count": 5
        }
      ],
      "source": [
        "corr_matrix = train_df.corr()\n",
        "corr_matrix[\"Survived\"].sort_values(ascending=False)"
      ]
    },
    {
      "cell_type": "code",
      "execution_count": 6,
      "id": "10e041b7",
      "metadata": {
        "colab": {
          "base_uri": "https://localhost:8080/"
        },
        "id": "10e041b7",
        "outputId": "285de2c7-2166-4dec-d86c-76e94bb185da"
      },
      "outputs": [
        {
          "output_type": "stream",
          "name": "stdout",
          "text": [
            "<class 'pandas.core.frame.DataFrame'>\n",
            "RangeIndex: 891 entries, 0 to 890\n",
            "Data columns (total 12 columns):\n",
            " #   Column       Non-Null Count  Dtype  \n",
            "---  ------       --------------  -----  \n",
            " 0   PassengerId  891 non-null    int64  \n",
            " 1   Survived     891 non-null    int64  \n",
            " 2   Pclass       891 non-null    int64  \n",
            " 3   Name         891 non-null    object \n",
            " 4   Sex          891 non-null    object \n",
            " 5   Age          714 non-null    float64\n",
            " 6   SibSp        891 non-null    int64  \n",
            " 7   Parch        891 non-null    int64  \n",
            " 8   Ticket       891 non-null    object \n",
            " 9   Fare         891 non-null    float64\n",
            " 10  Cabin        204 non-null    object \n",
            " 11  Embarked     889 non-null    object \n",
            "dtypes: float64(2), int64(5), object(5)\n",
            "memory usage: 83.7+ KB\n"
          ]
        }
      ],
      "source": [
        "#This is required because we want to visualize this data set with a numeric value so determining the data type of each feature\n",
        "train_df.info()"
      ]
    },
    {
      "cell_type": "code",
      "execution_count": 7,
      "id": "9b0b408a",
      "metadata": {
        "colab": {
          "base_uri": "https://localhost:8080/"
        },
        "id": "9b0b408a",
        "outputId": "80f5feef-eda9-47d9-e9a8-636703f3fe9b"
      },
      "outputs": [
        {
          "output_type": "stream",
          "name": "stdout",
          "text": [
            "<class 'pandas.core.frame.DataFrame'>\n",
            "RangeIndex: 891 entries, 0 to 890\n",
            "Data columns (total 12 columns):\n",
            " #   Column       Non-Null Count  Dtype  \n",
            "---  ------       --------------  -----  \n",
            " 0   PassengerId  891 non-null    int64  \n",
            " 1   Survived     891 non-null    int64  \n",
            " 2   Pclass       891 non-null    int64  \n",
            " 3   Name         891 non-null    object \n",
            " 4   Sex          891 non-null    object \n",
            " 5   Age          714 non-null    float64\n",
            " 6   SibSp        891 non-null    int64  \n",
            " 7   Parch        891 non-null    int64  \n",
            " 8   Ticket       891 non-null    object \n",
            " 9   Fare         891 non-null    float64\n",
            " 10  Cabin        204 non-null    object \n",
            " 11  Embarked     891 non-null    object \n",
            "dtypes: float64(2), int64(5), object(5)\n",
            "memory usage: 83.7+ KB\n"
          ]
        }
      ],
      "source": [
        "#There are too many missing values in cabin features, we can consider to drop this feature. Sex and Emabrked seems the features that need to investigate at this point\n",
        "train_df[\"Embarked\"] = train_df[\"Embarked\"].fillna(\"s\")\n",
        "train_df.info()"
      ]
    },
    {
      "cell_type": "code",
      "execution_count": 8,
      "id": "5c63ae8f",
      "metadata": {
        "id": "5c63ae8f"
      },
      "outputs": [],
      "source": [
        "#importing libraries for visualization\n",
        "import matplotlib.pyplot as plt\n",
        "import seaborn as sns\n"
      ]
    },
    {
      "cell_type": "code",
      "execution_count": 9,
      "id": "66f96e54",
      "metadata": {
        "colab": {
          "base_uri": "https://localhost:8080/",
          "height": 279
        },
        "id": "66f96e54",
        "outputId": "a4c82dde-eda8-4e0a-bacf-bbb57080aee7"
      },
      "outputs": [
        {
          "output_type": "display_data",
          "data": {
            "text/plain": [
              "<Figure size 432x288 with 1 Axes>"
            ],
            "image/png": "[encoded data removed]"
          },
          "metadata": {
            "needs_background": "light"
          }
        }
      ],
      "source": [
        "sns.barplot(\n",
        "    data = train_df,\n",
        "    x='Sex',\n",
        "    y='Survived'\n",
        ")\n",
        "plt.show()"
      ]
    },
    {
      "cell_type": "code",
      "execution_count": 10,
      "id": "176c717d",
      "metadata": {
        "colab": {
          "base_uri": "https://localhost:8080/",
          "height": 350
        },
        "id": "176c717d",
        "outputId": "1b14699a-9ba0-41b3-960a-a78b25bab280"
      },
      "outputs": [
        {
          "output_type": "stream",
          "name": "stderr",
          "text": [
            "/usr/local/lib/python3.7/dist-packages/seaborn/_decorators.py:43: FutureWarning: Pass the following variable as a keyword arg: x. From version 0.12, the only valid positional argument will be `data`, and passing other arguments without an explicit keyword will result in an error or misinterpretation.\n",
            "  FutureWarning\n"
          ]
        },
        {
          "output_type": "execute_result",
          "data": {
            "text/plain": [
              "<matplotlib.axes._subplots.AxesSubplot at 0x7f5e65797850>"
            ]
          },
          "metadata": {},
          "execution_count": 10
        },
        {
          "output_type": "display_data",
          "data": {
            "text/plain": [
              "<Figure size 432x288 with 1 Axes>"
            ],
            "image/png": "[encoded data removed]"
          },
          "metadata": {
            "needs_background": "light"
          }
        }
      ],
      "source": [
        "#It is obvious that female has much higher survival rate than male\n",
        "sns.countplot(train_df['Embarked'])"
      ]
    },
    {
      "cell_type": "code",
      "execution_count": 11,
      "id": "4fe8ad36",
      "metadata": {
        "colab": {
          "base_uri": "https://localhost:8080/",
          "height": 279
        },
        "id": "4fe8ad36",
        "outputId": "d4a3c09a-f654-45ee-da67-d4d200a67dab"
      },
      "outputs": [
        {
          "output_type": "display_data",
          "data": {
            "text/plain": [
              "<Figure size 432x288 with 1 Axes>"
            ],
            "image/png": "[encoded data removed]"
          },
          "metadata": {
            "needs_background": "light"
          }
        }
      ],
      "source": [
        "sns.barplot(\n",
        "    data = train_df,\n",
        "    x='Embarked',\n",
        "    y='Survived'\n",
        ")\n",
        "plt.show()"
      ]
    },
    {
      "cell_type": "code",
      "execution_count": 12,
      "id": "bedf681a",
      "metadata": {
        "colab": {
          "base_uri": "https://localhost:8080/",
          "height": 279
        },
        "id": "bedf681a",
        "outputId": "78dd57f1-a855-4412-9b16-8d13bc998304"
      },
      "outputs": [
        {
          "output_type": "display_data",
          "data": {
            "text/plain": [
              "<Figure size 432x288 with 1 Axes>"
            ],
            "image/png": "[encoded data removed]"
          },
          "metadata": {
            "needs_background": "light"
          }
        }
      ],
      "source": [
        "sns.barplot(\n",
        "    data = train_df,\n",
        "    x='Pclass',\n",
        "    y='Survived'\n",
        ")\n",
        "plt.show()"
      ]
    },
    {
      "cell_type": "code",
      "execution_count": 15,
      "id": "7a2eb7a9",
      "metadata": {
        "id": "7a2eb7a9"
      },
      "outputs": [],
      "source": [
        "from sklearn.metrics import accuracy_score\n",
        "from collections import Counter\n",
        "import pandas as pd \n",
        "import numpy as np \n",
        "import itertools\n",
        "import random \n",
        "import warnings\n",
        "warnings.filterwarnings(\"ignore\")\n",
        "random.seed(0)\n",
        "\n",
        "# Read the data \n",
        "train_df = pd.read_csv('/train.csv')\n",
        "test_df =  pd.read_csv('/test.csv')\n",
        "\n",
        "# Join the train and test dataframes so the data preprocessing \n",
        "# will be done simultaneously in both datasets \n",
        "full_df = train_df.append(test_df, ignore_index=True)"
      ]
    },
    {
      "cell_type": "code",
      "execution_count": 16,
      "id": "66e0e40d",
      "metadata": {
        "id": "66e0e40d"
      },
      "outputs": [],
      "source": [
        "def data_preprocessing(df):\n",
        "  \n",
        "  # Label-encode the sex of a passenger \n",
        "  df['Sex'] = df['Sex'].replace(['male'],0)\n",
        "  df['Sex'] = df['Sex'].replace(['female'],1)\n",
        "\n",
        "  # Initialize new columns \n",
        "  df['title'] = np.NaN\n",
        "  df['alone'] = np.NaN\n",
        "  df['cabin_class'] = np.NaN\n",
        "\n",
        "  # Identify if a passenger is alone in the ship \n",
        "  for i,_ in enumerate(df['alone']):\n",
        "    if df['SibSp'][i] + df['Parch'][i] == 0:\n",
        "      df['alone'][i] = 1\n",
        "    else:\n",
        "      df['alone'][i] = 0 \n",
        "    \n",
        "    # Handle missing values\n",
        "  cols = ['SibSp','Parch','Fare','Age']\n",
        "  for col in cols:\n",
        "    df[col].fillna(df[col].median(), inplace = True)\n",
        "    \n",
        "  # Feature-engineer the cabin-class \n",
        "  for i,row in enumerate(df['Cabin']):\n",
        "    # Get cabin class \n",
        "    df['cabin_class'][i] =  str(row)[:1]\n",
        "\n",
        "  # Count the cabin distribution per class (if available) \n",
        "  cabin_distribution = {}\n",
        "  count = 0 \n",
        "  for row in df['cabin_class']:\n",
        "    if row != 'n':\n",
        "      count += 1 \n",
        "      if row not in cabin_distribution:\n",
        "        cabin_distribution[row] = 1 \n",
        "      else:\n",
        "        cabin_distribution[row] +=1 \n",
        "        \n",
        "        # Calculate the probability of being in a sepcific cabin-class  \n",
        "  cabin_pdf = {k:v / count for k, v in cabin_distribution.items()}\n",
        "\n",
        "  # Calculate the cumulative probability of being in a specific cabin-class \n",
        "  keys, vals = cabin_pdf.keys(), cabin_pdf.values()\n",
        "  cabin_cdf = dict(zip(keys, itertools.accumulate(vals)))\n",
        "  cabin_cdf = sorted(cabin_cdf.items(), key=lambda x: x[1])    \n",
        "\n",
        "  # Randomly assign cabin-classes to passengers that are missing the cabin \n",
        "  # field, based on the probabilities calculated above \n",
        "  for i,row in enumerate(df['cabin_class']):\n",
        "    random_num = random.random()\n",
        "    if row == 'n':\n",
        "      if random_num < cabin_cdf[0][1]:\n",
        "        df['cabin_class'][i] =  cabin_cdf[0][0]\n",
        "      elif cabin_cdf[0][1] <= random_num < cabin_cdf[1][1]:\n",
        "        df['cabin_class'][i] =  cabin_cdf[1][0]\n",
        "\n",
        "      elif cabin_cdf[1][1] <= random_num < cabin_cdf[2][1]:\n",
        "        df['cabin_class'][i] =  cabin_cdf[2][0]\n",
        "        \n",
        "      elif cabin_cdf[2][1] <= random_num < cabin_cdf[3][1]:\n",
        "        df['cabin_class'][i] =  cabin_cdf[2][0]\n",
        "\n",
        "      elif cabin_cdf[3][1] <= random_num < cabin_cdf[4][1]:\n",
        "        df['cabin_class'][i] =  cabin_cdf[3][0]\n",
        "\n",
        "      elif cabin_cdf[3][1] <= random_num < cabin_cdf[4][1]:\n",
        "        df['cabin_class'][i] =  cabin_cdf[4][0]\n",
        "\n",
        "      elif cabin_cdf[4][1] <= random_num < cabin_cdf[5][1]:\n",
        "        df['cabin_class'][i] =  cabin_cdf[4][0]\n",
        "      \n",
        "      elif cabin_cdf[5][1] <= random_num < cabin_cdf[6][1]:\n",
        "        df['cabin_class'][i] =  cabin_cdf[5][0]\n",
        "\n",
        "      elif cabin_cdf[6][1] <= random_num < cabin_cdf[7][1]:\n",
        "        df['cabin_class'][i] =  cabin_cdf[6][0]\n",
        "      else:\n",
        "        df['cabin_class'][i] = cabin_cdf[7][0]\n",
        "        \n",
        "         # Perform feature engineering to obtain additional title-info \n",
        "  for i,row in enumerate(df['Name']):\n",
        "    # Get person's title \n",
        "    df['title'][i] = row.split(',')[1].split('.')[0]\n",
        "\n",
        "  # Embarked one-hot encoding \n",
        "  embarked_dummies = pd.get_dummies(df.Embarked, prefix='Embarked')\n",
        "  df = pd.concat([df, embarked_dummies], axis=1)\n",
        "\n",
        "  # Person's title one-hot encoding \n",
        "  title_dummies = pd.get_dummies(df.title, prefix='title')\n",
        "  df = pd.concat([df, title_dummies], axis=1)\n",
        "\n",
        "  # Cabin class one-hot encoding \n",
        "  cabin_class_dummies = pd.get_dummies(df.cabin_class, prefix = 'cabin_class')\n",
        "  df = pd.concat([df, cabin_class_dummies], axis = 1)\n",
        "\n",
        "#Remove unecessary columns \n",
        "  del df['Name']\n",
        "  del df['PassengerId']\n",
        "  del df['title']\n",
        "  del df['Embarked']\n",
        "  del df['Cabin']\n",
        "  del df['Ticket']\n",
        "  del df['cabin_class']\n",
        "\n",
        "  return df "
      ]
    },
    {
      "cell_type": "code",
      "execution_count": 17,
      "id": "42c36d46",
      "metadata": {
        "colab": {
          "base_uri": "https://localhost:8080/"
        },
        "id": "42c36d46",
        "outputId": "d48bc539-629c-46e2-f59e-a1f56847adef"
      },
      "outputs": [
        {
          "output_type": "stream",
          "name": "stdout",
          "text": [
            "After preprocessing there are 891 rows and 36 columns in the training data.\n",
            "\n",
            "After preprocessing there are 418 rows and 36 columns in the test data.\n"
          ]
        }
      ],
      "source": [
        "# Preprocess the data and create the train / test sets \n",
        "full_df = data_preprocessing(full_df)\n",
        "X_train = full_df[:891]\n",
        "y_train = full_df['Survived'][:891]\n",
        "X_test = full_df[891:]\n",
        "del X_train['Survived']\n",
        "del X_test['Survived']\n",
        "\n",
        "\n",
        "print(f'After preprocessing there are {X_train.shape[0]} rows and {X_train.shape[1]} columns in the training data.\\n')\n",
        "print(f'After preprocessing there are {X_test.shape[0]} rows and {X_test.shape[1]} columns in the test data.')"
      ]
    },
    {
      "cell_type": "code",
      "execution_count": 18,
      "id": "6f855e8c",
      "metadata": {
        "id": "6f855e8c"
      },
      "outputs": [],
      "source": [
        "# Since we are not going to be using any fancy modules for our algorithm \n",
        "# we will be converting our data from pandas dataframe to python lists. \n",
        "X_train = X_train.values.tolist()\n",
        "X_test = X_test.values.tolist()"
      ]
    },
    {
      "cell_type": "code",
      "execution_count": 19,
      "id": "0036fc3d",
      "metadata": {
        "id": "0036fc3d"
      },
      "outputs": [],
      "source": [
        "class KNearestNeighbors():\n",
        "    def __init__(self,k):\n",
        "        self.k = k \n",
        "        self.X_train = None  \n",
        "        self.classes = []\n",
        "    \n",
        "    @staticmethod \n",
        "    def euclidean_distance(row1,row2):\n",
        "      sum = 0\n",
        "      for i,j in zip(row1,row2):\n",
        "        sum += (i-j) ** 2 \n",
        "      distance = sum ** 0.5 \n",
        "      return distance\n",
        "    \n",
        "    def _predict(self,classes,distances,k):\n",
        "      # Sort in descending order the distances and retrieve the index \n",
        "      # which maps to their corresponding class \n",
        "      idxs = sorted(range(len(distances)),key = lambda x:distances[x])[:self.k] \n",
        "      # Finding the class for each neighbor  \n",
        "      neighbors = [self.classes[idx] for idx in idxs]\n",
        "      # Choosing the most ocurring class \n",
        "      prediction = Counter(neighbors).most_common(1) # bit of a cheat here :)\n",
        "      return prediction[0][0]\n",
        "\n",
        "    def fit(self,X_train,y_train):\n",
        "        self.X_train = X_train\n",
        "        predictions = []\n",
        "        # For each passenger in the training dataset:\n",
        "        for i in range(len(X_train)):\n",
        "            distances = []\n",
        "            classes = []\n",
        "            # Estimate the Euclidean distance for the current \n",
        "            # passenger with all the other passengers \n",
        "            for x,y in zip(X_train,y_train):\n",
        "                distances.append(self.euclidean_distance(X_train[i],x))\n",
        "                # Append the class that corresponds to the current passenger\n",
        "                self.classes.append(y)\n",
        "            # Predict the class for the current passenger \n",
        "            prediction = self._predict(self.classes,distances,self.k)\n",
        "            predictions.append(prediction)\n",
        "        print(f'Utilizing {self.k} groups of nearest-neighbors the training accuracy is at {round(accuracy_score(predictions,y_train)*100,2)}%.')\n",
        "        return predictions   \n",
        "\n",
        "    def predict(self,X_test):\n",
        "        # Predictions for the test data \n",
        "        predictions = []\n",
        "        for i in range(len(X_test)):\n",
        "            distances = []\n",
        "            for x in self.X_train:\n",
        "                distances.append(self.euclidean_distance(X_test[i],x))\n",
        "            prediction = self._predict(self.classes,distances,self.k)\n",
        "            predictions.append(prediction)\n",
        "        return predictions \n"
      ]
    },
    {
      "cell_type": "code",
      "execution_count": 20,
      "id": "afb8fd10",
      "metadata": {
        "colab": {
          "base_uri": "https://localhost:8080/"
        },
        "id": "afb8fd10",
        "outputId": "dc5bf0b2-4a12-4f97-f6e6-16b506048bf2"
      },
      "outputs": [
        {
          "output_type": "stream",
          "name": "stdout",
          "text": [
            "Utilizing 4 groups of nearest-neighbors the training accuracy is at 88.78%.\n"
          ]
        }
      ],
      "source": [
        "# Choosing an arbritrary number for k to be 4 \n",
        "KNN = KNearestNeighbors(k=4)\n",
        "KNN.fit(X_train,y_train)\n",
        "predictions = KNN.predict(X_test)"
      ]
    },
    {
      "cell_type": "code",
      "execution_count": null,
      "id": "5a5edbe4",
      "metadata": {
        "id": "5a5edbe4"
      },
      "outputs": [],
      "source": [
        ""
      ]
    }
  ],
  "metadata": {
    "kernelspec": {
      "display_name": "Python 3 (ipykernel)",
      "language": "python",
      "name": "python3"
    },
    "language_info": {
      "codemirror_mode": {
        "name": "ipython",
        "version": 3
      },
      "file_extension": ".py",
      "mimetype": "text/x-python",
      "name": "python",
      "nbconvert_exporter": "python",
      "pygments_lexer": "ipython3",
      "version": "3.9.12"
    },
    "colab": {
      "name": "k-nearest neighbours Samruddh.ipynb",
      "provenance": [],
      "collapsed_sections": []
    }
  },
  "nbformat": 4,
  "nbformat_minor": 5
}